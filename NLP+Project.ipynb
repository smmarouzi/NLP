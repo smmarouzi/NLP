{
 "cells": [
  {
   "cell_type": "markdown",
   "metadata": {},
   "source": [
    "# NLP Project\n",
    "Prediction the price based on the comments"
   ]
  },
  {
   "cell_type": "code",
   "execution_count": 1,
   "metadata": {
    "collapsed": true
   },
   "outputs": [],
   "source": [
    "# Import Libraries\n",
    "\n",
    "import os\n",
    "from stop_words import get_stop_words\n",
    "from nltk.stem.porter import PorterStemmer\n",
    "from stop_words import get_stop_words\n",
    "import numpy as np\n",
    "import pandas as pd\n",
    "import nltk\n",
    "import string\n",
    "import matplotlib.pyplot as plt\n",
    "from sklearn.feature_extraction.text import TfidfTransformer\n",
    "from sklearn.feature_extraction.text import CountVectorizer\n",
    "from bs4 import BeautifulSoup\n",
    "import re"
   ]
  },
  {
   "cell_type": "code",
   "execution_count": 2,
   "metadata": {},
   "outputs": [
    {
     "name": "stdout",
     "output_type": "stream",
     "text": [
      "Iteration is stopped.\n"
     ]
    }
   ],
   "source": [
    "# read data chunks:\n",
    "reader = pd.read_csv('train_pr_sample.csv',iterator=True, header=0, encoding = \"ISO-8859-1\")\n",
    "\n",
    "loop = True\n",
    "chunkSize=100000\n",
    "chunks = []\n",
    "while loop:\n",
    "    try:\n",
    "        chunk = reader.get_chunk(chunkSize)\n",
    "        chunks.append(chunk)\n",
    "    except StopIteration:\n",
    "        loop = False\n",
    "        print (\"Iteration is stopped.\")\n",
    "    \n",
    "df = pd.concat(chunks, ignore_index=True)"
   ]
  },
  {
   "cell_type": "code",
   "execution_count": 3,
   "metadata": {},
   "outputs": [
    {
     "data": {
      "text/html": [
       "<div>\n",
       "<style>\n",
       "    .dataframe thead tr:only-child th {\n",
       "        text-align: right;\n",
       "    }\n",
       "\n",
       "    .dataframe thead th {\n",
       "        text-align: left;\n",
       "    }\n",
       "\n",
       "    .dataframe tbody tr th {\n",
       "        vertical-align: top;\n",
       "    }\n",
       "</style>\n",
       "<table border=\"1\" class=\"dataframe\">\n",
       "  <thead>\n",
       "    <tr style=\"text-align: right;\">\n",
       "      <th></th>\n",
       "      <th>train_id</th>\n",
       "      <th>name</th>\n",
       "      <th>item_condition_id</th>\n",
       "      <th>category_name</th>\n",
       "      <th>brand_name</th>\n",
       "      <th>price</th>\n",
       "      <th>shipping</th>\n",
       "      <th>item_description</th>\n",
       "    </tr>\n",
       "  </thead>\n",
       "  <tbody>\n",
       "    <tr>\n",
       "      <th>0</th>\n",
       "      <td>0</td>\n",
       "      <td>MLB Cincinnati Reds T Shirt Size XL</td>\n",
       "      <td>3</td>\n",
       "      <td>Men/Tops/T-shirts</td>\n",
       "      <td>NaN</td>\n",
       "      <td>10.0</td>\n",
       "      <td>1</td>\n",
       "      <td>No description yet</td>\n",
       "    </tr>\n",
       "    <tr>\n",
       "      <th>1</th>\n",
       "      <td>8</td>\n",
       "      <td>Girls Nike Pro shorts</td>\n",
       "      <td>3</td>\n",
       "      <td>Sports &amp; Outdoors/Apparel/Girls</td>\n",
       "      <td>Nike</td>\n",
       "      <td>19.0</td>\n",
       "      <td>0</td>\n",
       "      <td>Girls Size small Plus green. Three shorts total.</td>\n",
       "    </tr>\n",
       "    <tr>\n",
       "      <th>2</th>\n",
       "      <td>9</td>\n",
       "      <td>Porcelain clown doll checker pants VTG</td>\n",
       "      <td>3</td>\n",
       "      <td>Vintage &amp; Collectibles/Collectibles/Doll</td>\n",
       "      <td>NaN</td>\n",
       "      <td>8.0</td>\n",
       "      <td>0</td>\n",
       "      <td>I realized his pants are on backwards after th...</td>\n",
       "    </tr>\n",
       "    <tr>\n",
       "      <th>3</th>\n",
       "      <td>13</td>\n",
       "      <td>Sharpener and eraser</td>\n",
       "      <td>1</td>\n",
       "      <td>Other/Office supplies/School Supplies</td>\n",
       "      <td>Scholastic</td>\n",
       "      <td>4.0</td>\n",
       "      <td>1</td>\n",
       "      <td>No description yet</td>\n",
       "    </tr>\n",
       "    <tr>\n",
       "      <th>4</th>\n",
       "      <td>39</td>\n",
       "      <td>Victoria secret 34 c corest top</td>\n",
       "      <td>3</td>\n",
       "      <td>Women/Underwear/Bras</td>\n",
       "      <td>Victoria's Secret</td>\n",
       "      <td>10.0</td>\n",
       "      <td>0</td>\n",
       "      <td>Victoria secret 34 c corest top Will bundle to...</td>\n",
       "    </tr>\n",
       "  </tbody>\n",
       "</table>\n",
       "</div>"
      ],
      "text/plain": [
       "   train_id                                    name  item_condition_id  \\\n",
       "0         0     MLB Cincinnati Reds T Shirt Size XL                  3   \n",
       "1         8                   Girls Nike Pro shorts                  3   \n",
       "2         9  Porcelain clown doll checker pants VTG                  3   \n",
       "3        13                    Sharpener and eraser                  1   \n",
       "4        39         Victoria secret 34 c corest top                  3   \n",
       "\n",
       "                              category_name         brand_name  price  \\\n",
       "0                         Men/Tops/T-shirts                NaN   10.0   \n",
       "1           Sports & Outdoors/Apparel/Girls               Nike   19.0   \n",
       "2  Vintage & Collectibles/Collectibles/Doll                NaN    8.0   \n",
       "3     Other/Office supplies/School Supplies         Scholastic    4.0   \n",
       "4                      Women/Underwear/Bras  Victoria's Secret   10.0   \n",
       "\n",
       "   shipping                                   item_description  \n",
       "0         1                                 No description yet  \n",
       "1         0   Girls Size small Plus green. Three shorts total.  \n",
       "2         0  I realized his pants are on backwards after th...  \n",
       "3         1                                 No description yet  \n",
       "4         0  Victoria secret 34 c corest top Will bundle to...  "
      ]
     },
     "execution_count": 3,
     "metadata": {},
     "output_type": "execute_result"
    }
   ],
   "source": [
    "df.head()"
   ]
  },
  {
   "cell_type": "markdown",
   "metadata": {},
   "source": [
    "# Explore Data"
   ]
  },
  {
   "cell_type": "code",
   "execution_count": 4,
   "metadata": {},
   "outputs": [
    {
     "name": "stdout",
     "output_type": "stream",
     "text": [
      "Index(['train_id', 'name', 'item_condition_id', 'category_name', 'brand_name',\n",
      "       'price', 'shipping', 'item_description'],\n",
      "      dtype='object')\n"
     ]
    }
   ],
   "source": [
    "# df columns\n",
    "print (df.columns)"
   ]
  },
  {
   "cell_type": "code",
   "execution_count": 5,
   "metadata": {},
   "outputs": [
    {
     "name": "stdout",
     "output_type": "stream",
     "text": [
      "Size of the DF: (118948, 8)\n",
      "train_id               int64\n",
      "name                  object\n",
      "item_condition_id      int64\n",
      "category_name         object\n",
      "brand_name            object\n",
      "price                float64\n",
      "shipping               int64\n",
      "item_description      object\n",
      "dtype: object\n"
     ]
    }
   ],
   "source": [
    "print(\"Size of the DF:\",df.shape)\n",
    "print(df.dtypes)"
   ]
  },
  {
   "cell_type": "code",
   "execution_count": 6,
   "metadata": {
    "collapsed": true
   },
   "outputs": [],
   "source": [
    "## modify price:\n",
    "# remove rows with price less than 1\n",
    "noprice=df[df['price']<1].index\n",
    "df.drop(df.index[noprice],inplace=True)"
   ]
  },
  {
   "cell_type": "code",
   "execution_count": 7,
   "metadata": {},
   "outputs": [
    {
     "data": {
      "text/plain": [
       "train_id             118891\n",
       "name                 111202\n",
       "item_condition_id         5\n",
       "category_name           996\n",
       "brand_name             2176\n",
       "price                   419\n",
       "shipping                  2\n",
       "item_description     107475\n",
       "dtype: int64"
      ]
     },
     "execution_count": 7,
     "metadata": {},
     "output_type": "execute_result"
    }
   ],
   "source": [
    "df.apply(lambda x: x.nunique())"
   ]
  },
  {
   "cell_type": "code",
   "execution_count": 8,
   "metadata": {},
   "outputs": [
    {
     "data": {
      "text/plain": [
       "count    118891.000000\n",
       "mean         26.669475\n",
       "std          37.728794\n",
       "min           3.000000\n",
       "25%          10.000000\n",
       "50%          17.000000\n",
       "75%          29.000000\n",
       "max        1808.000000\n",
       "Name: price, dtype: float64"
      ]
     },
     "execution_count": 8,
     "metadata": {},
     "output_type": "execute_result"
    }
   ],
   "source": [
    "df.price.describe()"
   ]
  },
  {
   "cell_type": "code",
   "execution_count": 9,
   "metadata": {},
   "outputs": [
    {
     "data": {
      "image/png": "[encoded data removed]",
      "text/plain": [
       "<matplotlib.figure.Figure at 0x2345b5bee10>"
      ]
     },
     "metadata": {},
     "output_type": "display_data"
    }
   ],
   "source": [
    "import matplotlib.pyplot as plt\n",
    "import seaborn as sns\n",
    "\n",
    "from scipy.stats import norm\n",
    "from scipy import stats\n",
    "#histogram and normal probability plot\n",
    "y=df.price\n",
    "sns.distplot(y, fit=norm, bins=10, kde=False)\n",
    "plt.show()"
   ]
  },
  {
   "cell_type": "code",
   "execution_count": 10,
   "metadata": {
    "collapsed": true
   },
   "outputs": [],
   "source": [
    "#applying log transformation\n",
    "y = np.log(y)"
   ]
  },
  {
   "cell_type": "code",
   "execution_count": 11,
   "metadata": {},
   "outputs": [
    {
     "data": {
      "image/png": "[encoded data removed]",
      "text/plain": [
       "<matplotlib.figure.Figure at 0x2345f11a7f0>"
      ]
     },
     "metadata": {},
     "output_type": "display_data"
    }
   ],
   "source": [
    "#transformed histogram and normal probability plot\n",
    "sns.distplot(y, fit=norm,  bins=10, kde=False);\n",
    "plt.show()"
   ]
  },
  {
   "cell_type": "code",
   "execution_count": 12,
   "metadata": {},
   "outputs": [
    {
     "data": {
      "text/plain": [
       "0    0.553818\n",
       "1    0.446182\n",
       "Name: shipping, dtype: float64"
      ]
     },
     "execution_count": 12,
     "metadata": {},
     "output_type": "execute_result"
    }
   ],
   "source": [
    "df.shipping.value_counts()/len(df)"
   ]
  },
  {
   "cell_type": "code",
   "execution_count": 13,
   "metadata": {},
   "outputs": [
    {
     "data": {
      "text/plain": [
       "train_id                 0\n",
       "name                     0\n",
       "item_condition_id        0\n",
       "category_name          483\n",
       "brand_name           50668\n",
       "price                    0\n",
       "shipping                 0\n",
       "item_description        15\n",
       "dtype: int64"
      ]
     },
     "execution_count": 13,
     "metadata": {},
     "output_type": "execute_result"
    }
   ],
   "source": [
    "df.isnull().sum()"
   ]
  },
  {
   "cell_type": "code",
   "execution_count": 14,
   "metadata": {},
   "outputs": [
    {
     "data": {
      "text/plain": [
       "(118891, 8)"
      ]
     },
     "execution_count": 14,
     "metadata": {},
     "output_type": "execute_result"
    }
   ],
   "source": [
    "df.shape"
   ]
  },
  {
   "cell_type": "code",
   "execution_count": 15,
   "metadata": {},
   "outputs": [
    {
     "data": {
      "text/plain": [
       "item_condition_id\n",
       "5    31.213930\n",
       "2    27.263823\n",
       "1    26.518387\n",
       "3    26.515295\n",
       "4    24.480016\n",
       "Name: price, dtype: float64"
      ]
     },
     "execution_count": 15,
     "metadata": {},
     "output_type": "execute_result"
    }
   ],
   "source": [
    "df.groupby(['item_condition_id'],as_index=True)['price'].mean().sort_values(ascending=False)"
   ]
  },
  {
   "cell_type": "code",
   "execution_count": 16,
   "metadata": {},
   "outputs": [
    {
     "data": {
      "text/plain": [
       "item_condition_id\n",
       "2    1808.0\n",
       "1    1575.0\n",
       "3    1500.0\n",
       "4     459.0\n",
       "5     360.0\n",
       "Name: price, dtype: float64"
      ]
     },
     "execution_count": 16,
     "metadata": {},
     "output_type": "execute_result"
    }
   ],
   "source": [
    "df.groupby(['item_condition_id'],as_index=True)['price'].max().sort_values(ascending=False)"
   ]
  },
  {
   "cell_type": "code",
   "execution_count": 17,
   "metadata": {},
   "outputs": [
    {
     "data": {
      "text/plain": [
       "category_name\n",
       "Kids/Strollers/Standard                               265.000000\n",
       "Kids/Strollers/Other                                  195.000000\n",
       "Electronics/Computers & Tablets/Laptops & Netbooks    189.242857\n",
       "Home/Bedding/Bed in a Bag                             180.000000\n",
       "Other/Musical instruments/Brass Instruments           170.000000\n",
       "Sports & Outdoors/Golf/Electronics                    160.000000\n",
       "Vintage & Collectibles/Bags and Purses/Handbag        150.654867\n",
       "Home/Home Appliances/Air Conditioners                 132.500000\n",
       "Kids/Strollers/Travel Systems                         126.200000\n",
       "Women/Women's Handbags/Satchel                        123.486486\n",
       "Electronics/Cameras & Photography/Digital Cameras     122.120370\n",
       "Electronics/Computers & Tablets/Desktops & All-In-    115.846154\n",
       "Electronics/Cell Phones & Accessories/Cell Phones      98.766714\n",
       "Electronics/Cameras & Photography/Lenses & Filters     96.333333\n",
       "Kids/Toys/Electronics for Kids                         92.981132\n",
       "Men/Sweats & Hoodies/Track & Sweat Suits               90.666667\n",
       "Electronics/Video Games & Consoles/Consoles            88.226866\n",
       "Home/Home Appliances/Vacuums & Floor Care              81.545455\n",
       "Vintage & Collectibles/Serving/Flatware                80.000000\n",
       "Sports & Outdoors/Golf/Men's Golf Clubs                80.000000\n",
       "Handmade/Crochet/Afghan                                76.000000\n",
       "Other/Musical instruments/Wind & Woodwind Instrume     75.666667\n",
       "Vintage & Collectibles/Clothing/Dress                  75.666667\n",
       "Electronics/Computers & Tablets/iPad/Tablet/eBook      73.147059\n",
       "Electronics/TV, Audio & Surveillance/Televisions       72.642857\n",
       "Women/Women's Handbags/Hobo                            70.939394\n",
       "Electronics/TV, Audio & Surveillance/Home Audio        70.428571\n",
       "Kids/Toys/Tricycles, Scooters & Wagons                 69.250000\n",
       "Kids/Strollers/Lightweight                             69.000000\n",
       "Women/Women's Handbags/Shoulder Bag                    68.402576\n",
       "                                                         ...    \n",
       "Handmade/Art/Printmaking                                7.500000\n",
       "Handmade/Geekery/Science                                7.333333\n",
       "Handmade/Accessories/Pinback Button                     7.121212\n",
       "Handmade/Geekery/Accessory                              7.000000\n",
       "Handmade/Weddings/Other                                 7.000000\n",
       "Handmade/Glass/Jewelry                                  7.000000\n",
       "Handmade/Books and Zines/Journal                        7.000000\n",
       "Vintage & Collectibles/Book/Health                      7.000000\n",
       "Kids/Toys/Novelty & Gag Toys                            6.900000\n",
       "Handmade/Paper Goods/Other                              6.500000\n",
       "Handmade/Children/Art                                   6.500000\n",
       "Handmade/Accessories/Women                              6.333333\n",
       "Home/Home Appliances/Washers & Dryers                   6.000000\n",
       "Kids/Health & Baby Care/Nail Care                       6.000000\n",
       "Handmade/Paper Goods/Sticker                            5.977564\n",
       "Handmade/Accessories/Patch                              5.863014\n",
       "Handmade/Housewares/Office                              5.000000\n",
       "Vintage & Collectibles/Trading Cards/Historical, M      5.000000\n",
       "Handmade/Children/Accessories                           5.000000\n",
       "Handmade/Woodworking/Jewelry                            5.000000\n",
       "Handmade/Children/Jewelry                               4.000000\n",
       "Handmade/Ceramics and Pottery/Planters                  4.000000\n",
       "Handmade/Clothing/Other                                 4.000000\n",
       "Handmade/Needlecraft/Accessories                        4.000000\n",
       "Vintage & Collectibles/Accessories/Cuff Links           3.000000\n",
       "Handmade/Quilts/Patch                                   3.000000\n",
       "Vintage & Collectibles/Paper Ephemera/Postcard          3.000000\n",
       "Vintage & Collectibles/Supplies/Finding                 3.000000\n",
       "Handmade/Candles/Sticker                                3.000000\n",
       "Home/Kids' Home Store/Other                             3.000000\n",
       "Name: price, Length: 996, dtype: float64"
      ]
     },
     "execution_count": 17,
     "metadata": {},
     "output_type": "execute_result"
    }
   ],
   "source": [
    "df.groupby(['category_name'],as_index=True)['price'].mean().sort_values(ascending=False)"
   ]
  },
  {
   "cell_type": "code",
   "execution_count": 18,
   "metadata": {},
   "outputs": [
    {
     "data": {
      "text/plain": [
       "brand_name\n",
       "Sanyo                874.000000\n",
       "Valentino Garavan    513.500000\n",
       "Carolina Herrera     336.000000\n",
       "Celine               320.400000\n",
       "Mac Duggal           309.000000\n",
       "MCM Worldwide        301.000000\n",
       "Abbott               283.250000\n",
       "Stuart Weitzman      266.222222\n",
       "Moncler              259.000000\n",
       "CÃ©line              246.000000\n",
       "Joico                239.000000\n",
       "Chloe                233.000000\n",
       "David Yurman         225.187500\n",
       "Yeezy                219.727273\n",
       "Louis Vuitton        211.169231\n",
       "Adams Golf           209.000000\n",
       "Alyce Paris          200.000000\n",
       "Contours             195.000000\n",
       "Go Gear              184.333333\n",
       "Christian Loubout    180.666667\n",
       "AMD                  177.000000\n",
       "RIM                  175.000000\n",
       "UPPAbaby             172.000000\n",
       "Mori Lee             171.000000\n",
       "Tieks                170.333333\n",
       "Scala                166.000000\n",
       "Oscar de la Renta    163.500000\n",
       "Intel                162.500000\n",
       "ChloÃ©               161.000000\n",
       "Filson               160.000000\n",
       "                        ...    \n",
       "Rimmel                 5.875000\n",
       "Scholastic             5.666667\n",
       "Enfagrow               5.666667\n",
       "3MÂ®                   5.500000\n",
       "Custom Accessorie      5.000000\n",
       "DevaCurl               5.000000\n",
       "CiatÃ© London          5.000000\n",
       "Snap                   5.000000\n",
       "Teenage Mutant Ni      5.000000\n",
       "Diamond                5.000000\n",
       "Kryolan                5.000000\n",
       "Hint                   5.000000\n",
       "Baby Legs              5.000000\n",
       "GBC                    5.000000\n",
       "Zobo                   5.000000\n",
       "Zoo York               5.000000\n",
       "Toys R Us Plush        5.000000\n",
       "SlimeÂ®                4.500000\n",
       "Workman                4.000000\n",
       "ELF                    4.000000\n",
       "Foot Locker            4.000000\n",
       "Loveappella            4.000000\n",
       "Missoni                4.000000\n",
       "EvoShield              3.000000\n",
       "Boom Boom              3.000000\n",
       "Rebel Spirit           3.000000\n",
       "Roots                  3.000000\n",
       "Clover Canyon          3.000000\n",
       "Perler                 3.000000\n",
       "Hype                   3.000000\n",
       "Name: price, Length: 2176, dtype: float64"
      ]
     },
     "execution_count": 18,
     "metadata": {},
     "output_type": "execute_result"
    }
   ],
   "source": [
    "df.groupby(['brand_name'],as_index=True)['price'].mean().sort_values(ascending=False)"
   ]
  },
  {
   "cell_type": "markdown",
   "metadata": {},
   "source": [
    " # Data Prepration"
   ]
  },
  {
   "cell_type": "code",
   "execution_count": 19,
   "metadata": {
    "collapsed": true
   },
   "outputs": [],
   "source": [
    "# Drop \"name\" column \n",
    "# \"category_name\" and \"brand\" have the information included in Name \n",
    "df=df.drop(['name'],axis=1)"
   ]
  },
  {
   "cell_type": "code",
   "execution_count": 20,
   "metadata": {
    "collapsed": true
   },
   "outputs": [],
   "source": [
    "# Set \"train_id\" as index\n",
    "df.set_index('train_id',inplace=True)"
   ]
  },
  {
   "cell_type": "code",
   "execution_count": 21,
   "metadata": {
    "collapsed": true
   },
   "outputs": [],
   "source": [
    "# Spliting category_name into 3 categories:\n",
    "# main_category, sub_category and item_type\n",
    "df['main_category']=df.category_name.apply(lambda x: str(x).split('/')[0])\n",
    "df['sub_category']=df.category_name.apply(lambda x: str(x).split('/')[1] if len(str(x).split('/'))>1 else None )\n",
    "df['item_type']=df.category_name.apply(lambda x: x.split('/')[2] if len(str(x).split('/'))>2 else None)"
   ]
  },
  {
   "cell_type": "code",
   "execution_count": 22,
   "metadata": {
    "collapsed": true
   },
   "outputs": [],
   "source": [
    "# Drop \"category_name\" column \n",
    "df=df.drop(['category_name'],axis=1)"
   ]
  },
  {
   "cell_type": "code",
   "execution_count": 23,
   "metadata": {},
   "outputs": [
    {
     "data": {
      "text/html": [
       "<div>\n",
       "<style>\n",
       "    .dataframe thead tr:only-child th {\n",
       "        text-align: right;\n",
       "    }\n",
       "\n",
       "    .dataframe thead th {\n",
       "        text-align: left;\n",
       "    }\n",
       "\n",
       "    .dataframe tbody tr th {\n",
       "        vertical-align: top;\n",
       "    }\n",
       "</style>\n",
       "<table border=\"1\" class=\"dataframe\">\n",
       "  <thead>\n",
       "    <tr style=\"text-align: right;\">\n",
       "      <th></th>\n",
       "      <th>item_condition_id</th>\n",
       "      <th>brand_name</th>\n",
       "      <th>price</th>\n",
       "      <th>shipping</th>\n",
       "      <th>item_description</th>\n",
       "      <th>main_category</th>\n",
       "      <th>sub_category</th>\n",
       "      <th>item_type</th>\n",
       "    </tr>\n",
       "    <tr>\n",
       "      <th>train_id</th>\n",
       "      <th></th>\n",
       "      <th></th>\n",
       "      <th></th>\n",
       "      <th></th>\n",
       "      <th></th>\n",
       "      <th></th>\n",
       "      <th></th>\n",
       "      <th></th>\n",
       "    </tr>\n",
       "  </thead>\n",
       "  <tbody>\n",
       "    <tr>\n",
       "      <th>0</th>\n",
       "      <td>3</td>\n",
       "      <td>NaN</td>\n",
       "      <td>10.0</td>\n",
       "      <td>1</td>\n",
       "      <td>No description yet</td>\n",
       "      <td>Men</td>\n",
       "      <td>Tops</td>\n",
       "      <td>T-shirts</td>\n",
       "    </tr>\n",
       "    <tr>\n",
       "      <th>8</th>\n",
       "      <td>3</td>\n",
       "      <td>Nike</td>\n",
       "      <td>19.0</td>\n",
       "      <td>0</td>\n",
       "      <td>Girls Size small Plus green. Three shorts total.</td>\n",
       "      <td>Sports &amp; Outdoors</td>\n",
       "      <td>Apparel</td>\n",
       "      <td>Girls</td>\n",
       "    </tr>\n",
       "    <tr>\n",
       "      <th>9</th>\n",
       "      <td>3</td>\n",
       "      <td>NaN</td>\n",
       "      <td>8.0</td>\n",
       "      <td>0</td>\n",
       "      <td>I realized his pants are on backwards after th...</td>\n",
       "      <td>Vintage &amp; Collectibles</td>\n",
       "      <td>Collectibles</td>\n",
       "      <td>Doll</td>\n",
       "    </tr>\n",
       "    <tr>\n",
       "      <th>13</th>\n",
       "      <td>1</td>\n",
       "      <td>Scholastic</td>\n",
       "      <td>4.0</td>\n",
       "      <td>1</td>\n",
       "      <td>No description yet</td>\n",
       "      <td>Other</td>\n",
       "      <td>Office supplies</td>\n",
       "      <td>School Supplies</td>\n",
       "    </tr>\n",
       "    <tr>\n",
       "      <th>39</th>\n",
       "      <td>3</td>\n",
       "      <td>Victoria's Secret</td>\n",
       "      <td>10.0</td>\n",
       "      <td>0</td>\n",
       "      <td>Victoria secret 34 c corest top Will bundle to...</td>\n",
       "      <td>Women</td>\n",
       "      <td>Underwear</td>\n",
       "      <td>Bras</td>\n",
       "    </tr>\n",
       "  </tbody>\n",
       "</table>\n",
       "</div>"
      ],
      "text/plain": [
       "          item_condition_id         brand_name  price  shipping  \\\n",
       "train_id                                                          \n",
       "0                         3                NaN   10.0         1   \n",
       "8                         3               Nike   19.0         0   \n",
       "9                         3                NaN    8.0         0   \n",
       "13                        1         Scholastic    4.0         1   \n",
       "39                        3  Victoria's Secret   10.0         0   \n",
       "\n",
       "                                           item_description  \\\n",
       "train_id                                                      \n",
       "0                                        No description yet   \n",
       "8          Girls Size small Plus green. Three shorts total.   \n",
       "9         I realized his pants are on backwards after th...   \n",
       "13                                       No description yet   \n",
       "39        Victoria secret 34 c corest top Will bundle to...   \n",
       "\n",
       "                   main_category     sub_category        item_type  \n",
       "train_id                                                            \n",
       "0                            Men             Tops         T-shirts  \n",
       "8              Sports & Outdoors          Apparel            Girls  \n",
       "9         Vintage & Collectibles     Collectibles             Doll  \n",
       "13                         Other  Office supplies  School Supplies  \n",
       "39                         Women        Underwear             Bras  "
      ]
     },
     "execution_count": 23,
     "metadata": {},
     "output_type": "execute_result"
    }
   ],
   "source": [
    "df.head()"
   ]
  },
  {
   "cell_type": "code",
   "execution_count": 24,
   "metadata": {},
   "outputs": [
    {
     "data": {
      "text/plain": [
       "main_category\n",
       "Electronics               35.022999\n",
       "Men                       34.524984\n",
       "Women                     28.727768\n",
       "Vintage & Collectibles    27.095510\n",
       "Home                      25.156021\n",
       "Sports & Outdoors         25.092518\n",
       "nan                       24.355072\n",
       "Other                     20.928942\n",
       "Kids                      20.531935\n",
       "Beauty                    19.889051\n",
       "Handmade                  18.031496\n",
       "Name: price, dtype: float64"
      ]
     },
     "execution_count": 24,
     "metadata": {},
     "output_type": "execute_result"
    }
   ],
   "source": [
    "df.groupby(['main_category'],as_index=True)['price'].mean().sort_values(ascending=False)"
   ]
  },
  {
   "cell_type": "code",
   "execution_count": 25,
   "metadata": {},
   "outputs": [
    {
     "data": {
      "text/plain": [
       "sub_category\n",
       "Computers & Tablets          90.559441\n",
       "Cameras & Photography        71.684713\n",
       "Strollers                    70.878049\n",
       "Bags and Purses              63.571150\n",
       "Women's Handbags             58.812432\n",
       "Golf                         49.036364\n",
       "Footwear                     42.882353\n",
       "TV, Audio & Surveillance     42.307590\n",
       "Shoes                        41.404794\n",
       "Blazers & Sport Coats        41.000000\n",
       "Musical instruments          39.753425\n",
       "Home Appliances              37.502488\n",
       "Men's Accessories            34.666013\n",
       "Safety                       33.857143\n",
       "Coats & Jackets              33.568291\n",
       "Car Audio, Video & GPS       33.232558\n",
       "Video Games & Consoles       32.670068\n",
       "Women's Accessories          31.611209\n",
       "Gear                         31.552301\n",
       "Furniture                    31.333333\n",
       "Diapering                    30.507519\n",
       "Kitchen & Dining             30.235097\n",
       "Bedding                      29.576803\n",
       "Cell Phones & Accessories    29.159938\n",
       "Exercise                     29.007899\n",
       "Dresses                      28.834292\n",
       "Athletic Apparel             28.145909\n",
       "Electronics                  27.782407\n",
       "Sweats & Hoodies             27.579025\n",
       "Toy                          27.223706\n",
       "                               ...    \n",
       "Accessories                  17.708207\n",
       "Apparel                      17.609865\n",
       "Woodworking                  17.600000\n",
       "Fan Shop                     17.495851\n",
       "Bathing & Skin Care          17.431373\n",
       "Pet Supplies                 17.429508\n",
       "Boys 0-24 Mos                17.163350\n",
       "Shorts                       17.093023\n",
       "Health & Baby Care           16.880952\n",
       "Bath                         16.801724\n",
       "Books                        16.659443\n",
       "Kids' Home Store             16.541667\n",
       "Glass                        16.268293\n",
       "Office supplies              16.149883\n",
       "Potty Training               16.000000\n",
       "Ceramics and Pottery         15.666667\n",
       "Girls 0-24 Mos               15.615279\n",
       "Media                        15.312081\n",
       "Needlecraft                  14.807692\n",
       "Paper Ephemera               14.333333\n",
       "Trading Cards                14.007181\n",
       "Art                          14.000000\n",
       "Dolls and Miniatures         14.000000\n",
       "Children                     13.572816\n",
       "Artwork                      13.285714\n",
       "Books and Zines              12.500000\n",
       "Paper Goods                  11.182952\n",
       "Geekery                      10.000000\n",
       "Magazines                     9.588235\n",
       "Quilts                        4.666667\n",
       "Name: price, Length: 113, dtype: float64"
      ]
     },
     "execution_count": 25,
     "metadata": {},
     "output_type": "execute_result"
    }
   ],
   "source": [
    "df.groupby(['sub_category'],as_index=True)['price'].mean().sort_values(ascending=False)"
   ]
  },
  {
   "cell_type": "code",
   "execution_count": 26,
   "metadata": {},
   "outputs": [
    {
     "data": {
      "text/plain": [
       "item_type\n",
       "Standard                             265.000000\n",
       "Laptops & Netbooks                   189.242857\n",
       "Bed in a Bag                         180.000000\n",
       "Brass Instruments                    170.000000\n",
       "Handbag                              150.654867\n",
       "Air Conditioners                     132.500000\n",
       "Travel Systems                       126.200000\n",
       "Satchel                              123.486486\n",
       "Digital Cameras                      122.120370\n",
       "Desktops & All-In-                   115.846154\n",
       "Cell Phones                           98.766714\n",
       "Lenses & Filters                      96.333333\n",
       "Electronics for Kids                  92.981132\n",
       "Track & Sweat Suits                   90.666667\n",
       "Consoles                              88.226866\n",
       "Vacuums & Floor Care                  81.545455\n",
       "Men's Golf Clubs                      80.000000\n",
       "Flatware                              80.000000\n",
       "Afghan                                76.000000\n",
       "Wind & Woodwind Instrume              75.666667\n",
       "Dress                                 75.666667\n",
       "iPad                                  73.147059\n",
       "Televisions                           72.642857\n",
       "Hobo                                  70.939394\n",
       "Home Audio                            70.428571\n",
       "Tricycles, Scooters & Wagons          69.250000\n",
       "Lightweight                           69.000000\n",
       "Shoulder Bag                          68.402576\n",
       "Medical Supplies & Equi               65.507246\n",
       "Home Surveill                         65.352941\n",
       "                                        ...    \n",
       "Instructional                          8.500000\n",
       "Electrical Safety                      8.500000\n",
       "Performance Parts & Accessories        8.500000\n",
       "Print                                  8.500000\n",
       "Outdoor Safety                         8.500000\n",
       "Lifestyle & Cultures                   8.181818\n",
       "Birthday                               8.000000\n",
       "Automotive Enthusiast Merchandise      8.000000\n",
       "Leash                                  8.000000\n",
       "Cabinet Locks & Straps                 8.000000\n",
       "Screen Prote                           7.888158\n",
       "Printmaking                            7.500000\n",
       "Handkerchief                           7.500000\n",
       "Tape                                   7.500000\n",
       "Peasant                                7.500000\n",
       "Science                                7.333333\n",
       "Pinback Button                         7.121212\n",
       "Accessory                              7.000000\n",
       "Health                                 7.000000\n",
       "Novelty & Gag Toys                     6.900000\n",
       "Nail Care                              6.000000\n",
       "Washers & Dryers                       6.000000\n",
       "Sticker                                5.968051\n",
       "Patch                                  5.786667\n",
       "Historical, M                          5.000000\n",
       "Office                                 5.000000\n",
       "Planters                               4.000000\n",
       "Finding                                3.000000\n",
       "Postcard                               3.000000\n",
       "Cuff Links                             3.000000\n",
       "Name: price, Length: 699, dtype: float64"
      ]
     },
     "execution_count": 26,
     "metadata": {},
     "output_type": "execute_result"
    }
   ],
   "source": [
    "df.groupby(['item_type'],as_index=True)['price'].mean().sort_values(ascending=False)"
   ]
  },
  {
   "cell_type": "markdown",
   "metadata": {},
   "source": [
    "# NLP functions "
   ]
  },
  {
   "cell_type": "markdown",
   "metadata": {},
   "source": [
    "Data Cleaning"
   ]
  },
  {
   "cell_type": "code",
   "execution_count": 27,
   "metadata": {
    "collapsed": true
   },
   "outputs": [],
   "source": [
    "# Data cleaning for NLP analysis\n",
    "# 1) stemming remove stop 2) remove white space 3) remove number 4) keep at least two letter words 5)remove xml tags\n",
    "stemmer = PorterStemmer()\n",
    "english_stemmer= nltk.stem.PorterStemmer()\n",
    "english_stop= get_stop_words('en')\n",
    "token_pattern= r\"(?u)\\b\\w\\w+\\b\""
   ]
  },
  {
   "cell_type": "code",
   "execution_count": 28,
   "metadata": {
    "collapsed": true
   },
   "outputs": [],
   "source": [
    "# use regexp to tokenize to list and then stem to get stemmed list and change to string\n",
    "def stem_tokens(tokens, stemmer):\n",
    "    stemmed = []\n",
    "    for item in tokens:\n",
    "        stemmed.append(stemmer.stem(item))\n",
    "    return stemmed "
   ]
  },
  {
   "cell_type": "code",
   "execution_count": 29,
   "metadata": {
    "collapsed": true
   },
   "outputs": [],
   "source": [
    "def preprocess_data(line, token_pattern=token_pattern):\n",
    "    token_pattern= re.compile(token_pattern)# remove , flags = re.UNICODE | re.LOCALE\n",
    "    tokens = [w.lower() for w in token_pattern.findall(line)]\n",
    "    non_stopwords= [i for i in tokens if not i in english_stop]\n",
    "    stemmed_words= [stemmer.stem(i) for i in non_stopwords]\n",
    "    texts = [''.join(p for p in w if p not in string.punctuation) for w in stemmed_words]\n",
    "    # Remove numbers\n",
    "    texts = [''.join(p for p in w if p not in '0123456789') for w in texts]\n",
    "    # Trim extra whitespace\n",
    "    texts = [' '.join(w.split()) for w in texts]\n",
    "    return texts"
   ]
  },
  {
   "cell_type": "markdown",
   "metadata": {},
   "source": [
    "# TFIDF"
   ]
  },
  {
   "cell_type": "code",
   "execution_count": 30,
   "metadata": {
    "collapsed": true
   },
   "outputs": [],
   "source": [
    "# get the column we want to do tfidf on it and return tfidf sparse matrix\n",
    "def tfidf(Summary):\n",
    "    sentences = []\n",
    "    for text in Summary:\n",
    "        # print(\"\\n\", text)\n",
    "        if str(text)!='nan':\n",
    "            text = BeautifulSoup(text, \"lxml\").get_text()\n",
    "            text = re.sub(\"[^a-zA-Z]\",\" \", text)\n",
    "            texts=preprocess_data(text)\n",
    "            sentences.append(texts)\n",
    "        else:\n",
    "            # print(\"\\n\", text)\n",
    "            sentences.append(['descript', 'yet'])\n",
    "        \n",
    "    corpus = np.array(sentences)\n",
    "    count_vect= CountVectorizer(tokenizer=lambda doc: doc, lowercase=False)\n",
    "    description_counts= count_vect.fit_transform(corpus)\n",
    "    tfidf_transformer= TfidfTransformer()\n",
    "    Summary_tfidf= tfidf_transformer.fit_transform(description_counts)\n",
    "    return (Summary_tfidf,count_vect)"
   ]
  },
  {
   "cell_type": "code",
   "execution_count": 31,
   "metadata": {
    "collapsed": true
   },
   "outputs": [],
   "source": [
    "# find maximum tfidf features and return list of them:\n",
    "def select_max_tfidf(sparse_tfidf,count_vect):\n",
    "    # creat data frame of each word and tfidf:\n",
    "    docnum=list()\n",
    "    word=list()\n",
    "    tfidfnum=list()\n",
    "    f_names=count_vect.get_feature_names()\n",
    "    for doc in range(sparse_tfidf.shape[0]):\n",
    "        feature_index=sparse_tfidf[doc,:].nonzero()[1]\n",
    "        h_scores=zip(feature_index,[sparse_tfidf[doc,x] for x in feature_index])\n",
    "        \n",
    "        for w,s in [(f_names[i],s) for (i,s) in h_scores]:\n",
    "            docnum.append(doc)\n",
    "            word.append(w)\n",
    "            tfidfnum.append(s)\n",
    "    \n",
    "    sparse_tfidf_rank=pd.DataFrame({'doc':docnum,'word':word,'tfidf':tfidfnum})\n",
    "    sparse_tfidf_rank.sort_values(by='tfidf', ascending=False,inplace=True)\n",
    "    # n max tfidf:\n",
    "    n=sparse_tfidf_rank.groupby('word')['word'].count().count()\n",
    "    n=int(n*0.1)\n",
    "    # n word with max tfidf\n",
    "    wordsrank=sparse_tfidf_rank.groupby('word')['tfidf'].mean().sort_values( ascending=False)[:n]\n",
    "    words=wordsrank.index.tolist()\n",
    "    del words[words=='nan']\n",
    "    # n index with max tfidf\n",
    "    words_index=list()\n",
    "    for i in words:\n",
    "        words_index.append(count_vect.vocabulary_[i])\n",
    "    \n",
    "    return (words_index,words) "
   ]
  },
  {
   "cell_type": "markdown",
   "metadata": {},
   "source": [
    "# Main"
   ]
  },
  {
   "cell_type": "markdown",
   "metadata": {},
   "source": [
    "\"item_description\" feature extraction"
   ]
  },
  {
   "cell_type": "code",
   "execution_count": 32,
   "metadata": {},
   "outputs": [
    {
     "name": "stderr",
     "output_type": "stream",
     "text": [
      "C:\\Users\\mm\\Anaconda3\\lib\\site-packages\\bs4\\__init__.py:219: UserWarning: \"b'...'\" looks like a filename, not markup. You should probably open this file and pass the filehandle into Beautiful Soup.\n",
      "  ' Beautiful Soup.' % markup)\n",
      "C:\\Users\\mm\\Anaconda3\\lib\\site-packages\\bs4\\__init__.py:219: UserWarning: \"b'.....'\" looks like a filename, not markup. You should probably open this file and pass the filehandle into Beautiful Soup.\n",
      "  ' Beautiful Soup.' % markup)\n"
     ]
    }
   ],
   "source": [
    "# item_description tfidf\n",
    "Summary = df['item_description']\n",
    "descript_tfidf,vect=tfidf(Summary)\n",
    "descript_tfidf_maxindex,descript_features=select_max_tfidf(descript_tfidf,vect)"
   ]
  },
  {
   "cell_type": "code",
   "execution_count": null,
   "metadata": {
    "collapsed": true
   },
   "outputs": [],
   "source": []
  },
  {
   "cell_type": "code",
   "execution_count": 34,
   "metadata": {},
   "outputs": [
    {
     "name": "stdout",
     "output_type": "stream",
     "text": [
      "      tfidf_maxindex            word\n",
      "0               7680             eee\n",
      "1               3915  capsulewardrob\n",
      "2               1690       backetbal\n",
      "3              14590    liquifuschia\n",
      "4               2772           blurr\n",
      "5              22716            shay\n",
      "6              18569      papaerback\n",
      "7              27243      valentinea\n",
      "8              19274       pinkvenom\n",
      "9              18853       pelotonia\n",
      "10             14391        lieopold\n",
      "11              6017          curlfo\n",
      "12             22565         sethiou\n",
      "13             21014            rejx\n",
      "14              6805           digiz\n",
      "15             18518             pam\n",
      "16             26189       toxicroak\n",
      "17             17723            nway\n",
      "18              7045         dogahol\n",
      "19             26964          unissu\n",
      "20               559          alissa\n",
      "21              7937             emz\n",
      "22             21918          salena\n",
      "23             10653           grwat\n",
      "24             11058          hatnlo\n",
      "25             14653     lizardtronn\n",
      "26             25356         tazorac\n",
      "27              5952       cucharron\n",
      "28              7244            drax\n",
      "29             14742      loloradley\n",
      "...              ...             ...\n",
      "2880             544         aliciap\n",
      "2881           10677        guadalup\n",
      "2882           21846         sabrina\n",
      "2883            8440          eyecat\n",
      "2884           22293          scruff\n",
      "2885           15495        marquett\n",
      "2886           24901         surefir\n",
      "2887           26475         trukfit\n",
      "2888           25368            tcdf\n",
      "2889           18621         parfect\n",
      "2890            9655           funer\n",
      "2891            8935           firma\n",
      "2892           20003           primm\n",
      "2893           19958         pretzel\n",
      "2894            1505         autenth\n",
      "2895           21945          salwar\n",
      "2896            2801           bnwot\n",
      "2897           18712         patrior\n",
      "2898            4022       carribean\n",
      "2899           12520             inx\n",
      "2900            3711         caillou\n",
      "2901            2635          bladex\n",
      "2902           28268         wildgam\n",
      "2903            3991          carmar\n",
      "2904           17282          newera\n",
      "2905           11925              ib\n",
      "2906           16961             myp\n",
      "2907           10654            grwo\n",
      "2908           11655     horrorblock\n",
      "2909            5749        creamish\n",
      "\n",
      "[2910 rows x 2 columns]\n"
     ]
    }
   ],
   "source": [
    "print(pd.DataFrame({\"word\":descript_features,\"tfidf_maxindex\":descript_tfidf_maxindex}))"
   ]
  },
  {
   "cell_type": "markdown",
   "metadata": {},
   "source": [
    "I had a big problem at this section...\n",
    "Memory limitation forced me use just 1000 rows out of 120000 rows :(\n",
    "My next job will be dealing with big data after finishing this project"
   ]
  },
  {
   "cell_type": "code",
   "execution_count": 35,
   "metadata": {
    "collapsed": true
   },
   "outputs": [],
   "source": [
    "df=df[0:1000]"
   ]
  },
  {
   "cell_type": "code",
   "execution_count": 59,
   "metadata": {
    "collapsed": true
   },
   "outputs": [],
   "source": [
    "y=y[0:1000]"
   ]
  },
  {
   "cell_type": "code",
   "execution_count": 36,
   "metadata": {
    "collapsed": true
   },
   "outputs": [],
   "source": [
    "# item_description tfidf\n",
    "Summary = df['item_description']\n",
    "descript_tfidf,vect=tfidf(Summary)\n",
    "descript_tfidf_maxindex,descript_features=select_max_tfidf(descript_tfidf,vect)"
   ]
  },
  {
   "cell_type": "code",
   "execution_count": 37,
   "metadata": {
    "collapsed": true
   },
   "outputs": [],
   "source": [
    "# remove indices with low tfidf:\n",
    "descript_tfidf_dense=pd.DataFrame(descript_tfidf.todense(),index=df.index)  \n",
    "descript_tfidf_dense=descript_tfidf_dense[descript_tfidf_maxindex]    \n",
    "descript_tfidf_dense.columns=descript_features"
   ]
  },
  {
   "cell_type": "code",
   "execution_count": 38,
   "metadata": {},
   "outputs": [
    {
     "data": {
      "text/html": [
       "<div>\n",
       "<style>\n",
       "    .dataframe thead tr:only-child th {\n",
       "        text-align: right;\n",
       "    }\n",
       "\n",
       "    .dataframe thead th {\n",
       "        text-align: left;\n",
       "    }\n",
       "\n",
       "    .dataframe tbody tr th {\n",
       "        vertical-align: top;\n",
       "    }\n",
       "</style>\n",
       "<table border=\"1\" class=\"dataframe\">\n",
       "  <thead>\n",
       "    <tr style=\"text-align: right;\">\n",
       "      <th></th>\n",
       "      <th>nwob</th>\n",
       "      <th>tween</th>\n",
       "      <th>latgr</th>\n",
       "      <th>wth</th>\n",
       "      <th>lp</th>\n",
       "      <th>fa</th>\n",
       "      <th>justic</th>\n",
       "      <th>lippi</th>\n",
       "      <th>flannel</th>\n",
       "      <th>neve</th>\n",
       "      <th>...</th>\n",
       "      <th>wallet</th>\n",
       "      <th>fli</th>\n",
       "      <th>pig</th>\n",
       "      <th>maul</th>\n",
       "      <th>chocol</th>\n",
       "      <th>ding</th>\n",
       "      <th>balm</th>\n",
       "      <th>midi</th>\n",
       "      <th>wore</th>\n",
       "      <th>sin</th>\n",
       "    </tr>\n",
       "    <tr>\n",
       "      <th>train_id</th>\n",
       "      <th></th>\n",
       "      <th></th>\n",
       "      <th></th>\n",
       "      <th></th>\n",
       "      <th></th>\n",
       "      <th></th>\n",
       "      <th></th>\n",
       "      <th></th>\n",
       "      <th></th>\n",
       "      <th></th>\n",
       "      <th></th>\n",
       "      <th></th>\n",
       "      <th></th>\n",
       "      <th></th>\n",
       "      <th></th>\n",
       "      <th></th>\n",
       "      <th></th>\n",
       "      <th></th>\n",
       "      <th></th>\n",
       "      <th></th>\n",
       "      <th></th>\n",
       "    </tr>\n",
       "  </thead>\n",
       "  <tbody>\n",
       "    <tr>\n",
       "      <th>0</th>\n",
       "      <td>0.0</td>\n",
       "      <td>0.0</td>\n",
       "      <td>0.0</td>\n",
       "      <td>0.0</td>\n",
       "      <td>0.0</td>\n",
       "      <td>0.0</td>\n",
       "      <td>0.0</td>\n",
       "      <td>0.0</td>\n",
       "      <td>0.0</td>\n",
       "      <td>0.0</td>\n",
       "      <td>...</td>\n",
       "      <td>0.0</td>\n",
       "      <td>0.0</td>\n",
       "      <td>0.0</td>\n",
       "      <td>0.0</td>\n",
       "      <td>0.0</td>\n",
       "      <td>0.0</td>\n",
       "      <td>0.0</td>\n",
       "      <td>0.0</td>\n",
       "      <td>0.0</td>\n",
       "      <td>0.0</td>\n",
       "    </tr>\n",
       "    <tr>\n",
       "      <th>8</th>\n",
       "      <td>0.0</td>\n",
       "      <td>0.0</td>\n",
       "      <td>0.0</td>\n",
       "      <td>0.0</td>\n",
       "      <td>0.0</td>\n",
       "      <td>0.0</td>\n",
       "      <td>0.0</td>\n",
       "      <td>0.0</td>\n",
       "      <td>0.0</td>\n",
       "      <td>0.0</td>\n",
       "      <td>...</td>\n",
       "      <td>0.0</td>\n",
       "      <td>0.0</td>\n",
       "      <td>0.0</td>\n",
       "      <td>0.0</td>\n",
       "      <td>0.0</td>\n",
       "      <td>0.0</td>\n",
       "      <td>0.0</td>\n",
       "      <td>0.0</td>\n",
       "      <td>0.0</td>\n",
       "      <td>0.0</td>\n",
       "    </tr>\n",
       "    <tr>\n",
       "      <th>9</th>\n",
       "      <td>0.0</td>\n",
       "      <td>0.0</td>\n",
       "      <td>0.0</td>\n",
       "      <td>0.0</td>\n",
       "      <td>0.0</td>\n",
       "      <td>0.0</td>\n",
       "      <td>0.0</td>\n",
       "      <td>0.0</td>\n",
       "      <td>0.0</td>\n",
       "      <td>0.0</td>\n",
       "      <td>...</td>\n",
       "      <td>0.0</td>\n",
       "      <td>0.0</td>\n",
       "      <td>0.0</td>\n",
       "      <td>0.0</td>\n",
       "      <td>0.0</td>\n",
       "      <td>0.0</td>\n",
       "      <td>0.0</td>\n",
       "      <td>0.0</td>\n",
       "      <td>0.0</td>\n",
       "      <td>0.0</td>\n",
       "    </tr>\n",
       "    <tr>\n",
       "      <th>13</th>\n",
       "      <td>0.0</td>\n",
       "      <td>0.0</td>\n",
       "      <td>0.0</td>\n",
       "      <td>0.0</td>\n",
       "      <td>0.0</td>\n",
       "      <td>0.0</td>\n",
       "      <td>0.0</td>\n",
       "      <td>0.0</td>\n",
       "      <td>0.0</td>\n",
       "      <td>0.0</td>\n",
       "      <td>...</td>\n",
       "      <td>0.0</td>\n",
       "      <td>0.0</td>\n",
       "      <td>0.0</td>\n",
       "      <td>0.0</td>\n",
       "      <td>0.0</td>\n",
       "      <td>0.0</td>\n",
       "      <td>0.0</td>\n",
       "      <td>0.0</td>\n",
       "      <td>0.0</td>\n",
       "      <td>0.0</td>\n",
       "    </tr>\n",
       "    <tr>\n",
       "      <th>39</th>\n",
       "      <td>0.0</td>\n",
       "      <td>0.0</td>\n",
       "      <td>0.0</td>\n",
       "      <td>0.0</td>\n",
       "      <td>0.0</td>\n",
       "      <td>0.0</td>\n",
       "      <td>0.0</td>\n",
       "      <td>0.0</td>\n",
       "      <td>0.0</td>\n",
       "      <td>0.0</td>\n",
       "      <td>...</td>\n",
       "      <td>0.0</td>\n",
       "      <td>0.0</td>\n",
       "      <td>0.0</td>\n",
       "      <td>0.0</td>\n",
       "      <td>0.0</td>\n",
       "      <td>0.0</td>\n",
       "      <td>0.0</td>\n",
       "      <td>0.0</td>\n",
       "      <td>0.0</td>\n",
       "      <td>0.0</td>\n",
       "    </tr>\n",
       "  </tbody>\n",
       "</table>\n",
       "<p>5 rows × 304 columns</p>\n",
       "</div>"
      ],
      "text/plain": [
       "          nwob  tween  latgr  wth   lp   fa  justic  lippi  flannel  neve  \\\n",
       "train_id                                                                    \n",
       "0          0.0    0.0    0.0  0.0  0.0  0.0     0.0    0.0      0.0   0.0   \n",
       "8          0.0    0.0    0.0  0.0  0.0  0.0     0.0    0.0      0.0   0.0   \n",
       "9          0.0    0.0    0.0  0.0  0.0  0.0     0.0    0.0      0.0   0.0   \n",
       "13         0.0    0.0    0.0  0.0  0.0  0.0     0.0    0.0      0.0   0.0   \n",
       "39         0.0    0.0    0.0  0.0  0.0  0.0     0.0    0.0      0.0   0.0   \n",
       "\n",
       "         ...   wallet  fli  pig  maul  chocol  ding  balm  midi  wore  sin  \n",
       "train_id ...                                                                \n",
       "0        ...      0.0  0.0  0.0   0.0     0.0   0.0   0.0   0.0   0.0  0.0  \n",
       "8        ...      0.0  0.0  0.0   0.0     0.0   0.0   0.0   0.0   0.0  0.0  \n",
       "9        ...      0.0  0.0  0.0   0.0     0.0   0.0   0.0   0.0   0.0  0.0  \n",
       "13       ...      0.0  0.0  0.0   0.0     0.0   0.0   0.0   0.0   0.0  0.0  \n",
       "39       ...      0.0  0.0  0.0   0.0     0.0   0.0   0.0   0.0   0.0  0.0  \n",
       "\n",
       "[5 rows x 304 columns]"
      ]
     },
     "execution_count": 38,
     "metadata": {},
     "output_type": "execute_result"
    }
   ],
   "source": [
    "descript_tfidf_dense.head()"
   ]
  },
  {
   "cell_type": "markdown",
   "metadata": {
    "collapsed": true
   },
   "source": [
    "Final DataFrame"
   ]
  },
  {
   "cell_type": "code",
   "execution_count": 39,
   "metadata": {
    "collapsed": true
   },
   "outputs": [],
   "source": [
    "# Create dummy variables for object variables:\n",
    "dummy_brand_name=pd.get_dummies(df['brand_name'],prefix='brand')\n",
    "dummy_main_category=pd.get_dummies(df['main_category'],prefix='main_cat')\n",
    "dummy_sub_category=pd.get_dummies(df['sub_category'],prefix='sub_cat')\n",
    "\n",
    "# dummy_table_condition=pd.get_dummies(df['item_condition_id'],prefix='condition')"
   ]
  },
  {
   "cell_type": "code",
   "execution_count": 40,
   "metadata": {
    "collapsed": true
   },
   "outputs": [],
   "source": [
    "## merge tables to create final table\n",
    "finaldf=dummy_brand_name.merge(dummy_main_category, how='inner', left_index=True, right_index=True) \n",
    "finaldf=finaldf.merge(dummy_sub_category, how='inner', left_index=True, right_index=True)\n",
    "finaldf=finaldf.merge(descript_tfidf_dense, how='inner', left_index=True, right_index=True)\n",
    "finaldf=finaldf.merge(df['shipping'].to_frame(), how='inner', left_index=True, right_index=True)\n",
    "finaldf=finaldf.merge(df['item_condition_id'].to_frame(), how='inner', left_index=True, right_index=True)\n",
    "finaldf=finaldf.merge(df['price'].to_frame(), how='inner', left_index=True, right_index=True)"
   ]
  },
  {
   "cell_type": "code",
   "execution_count": 41,
   "metadata": {},
   "outputs": [
    {
     "data": {
      "text/plain": [
       "(1000, 613)"
      ]
     },
     "execution_count": 41,
     "metadata": {},
     "output_type": "execute_result"
    }
   ],
   "source": [
    "finaldf.shape"
   ]
  },
  {
   "cell_type": "code",
   "execution_count": 42,
   "metadata": {},
   "outputs": [
    {
     "data": {
      "text/plain": [
       "Index(['brand_ALEX AND ANI', 'brand_ALO Yoga', 'brand_ASUS',\n",
       "       'brand_Abercrombie & Fit', 'brand_Adidas', 'brand_Air Jordan',\n",
       "       'brand_American Boy & Gi', 'brand_American Eagle',\n",
       "       'brand_Anastasia Beverly', 'brand_Angry Birds',\n",
       "       ...\n",
       "       'maul', 'chocol', 'ding', 'balm', 'midi', 'wore', 'sin', 'shipping',\n",
       "       'item_condition_id', 'price'],\n",
       "      dtype='object', length=613)"
      ]
     },
     "execution_count": 42,
     "metadata": {},
     "output_type": "execute_result"
    }
   ],
   "source": [
    "finaldf.columns"
   ]
  },
  {
   "cell_type": "code",
   "execution_count": 43,
   "metadata": {},
   "outputs": [
    {
     "data": {
      "text/html": [
       "<div>\n",
       "<style>\n",
       "    .dataframe thead tr:only-child th {\n",
       "        text-align: right;\n",
       "    }\n",
       "\n",
       "    .dataframe thead th {\n",
       "        text-align: left;\n",
       "    }\n",
       "\n",
       "    .dataframe tbody tr th {\n",
       "        vertical-align: top;\n",
       "    }\n",
       "</style>\n",
       "<table border=\"1\" class=\"dataframe\">\n",
       "  <thead>\n",
       "    <tr style=\"text-align: right;\">\n",
       "      <th></th>\n",
       "      <th>brand_ALEX AND ANI</th>\n",
       "      <th>brand_ALO Yoga</th>\n",
       "      <th>brand_ASUS</th>\n",
       "      <th>brand_Abercrombie &amp; Fit</th>\n",
       "      <th>brand_Adidas</th>\n",
       "      <th>brand_Air Jordan</th>\n",
       "      <th>brand_American Boy &amp; Gi</th>\n",
       "      <th>brand_American Eagle</th>\n",
       "      <th>brand_Anastasia Beverly</th>\n",
       "      <th>brand_Angry Birds</th>\n",
       "      <th>...</th>\n",
       "      <th>maul</th>\n",
       "      <th>chocol</th>\n",
       "      <th>ding</th>\n",
       "      <th>balm</th>\n",
       "      <th>midi</th>\n",
       "      <th>wore</th>\n",
       "      <th>sin</th>\n",
       "      <th>shipping</th>\n",
       "      <th>item_condition_id</th>\n",
       "      <th>price</th>\n",
       "    </tr>\n",
       "    <tr>\n",
       "      <th>train_id</th>\n",
       "      <th></th>\n",
       "      <th></th>\n",
       "      <th></th>\n",
       "      <th></th>\n",
       "      <th></th>\n",
       "      <th></th>\n",
       "      <th></th>\n",
       "      <th></th>\n",
       "      <th></th>\n",
       "      <th></th>\n",
       "      <th></th>\n",
       "      <th></th>\n",
       "      <th></th>\n",
       "      <th></th>\n",
       "      <th></th>\n",
       "      <th></th>\n",
       "      <th></th>\n",
       "      <th></th>\n",
       "      <th></th>\n",
       "      <th></th>\n",
       "      <th></th>\n",
       "    </tr>\n",
       "  </thead>\n",
       "  <tbody>\n",
       "    <tr>\n",
       "      <th>0</th>\n",
       "      <td>0</td>\n",
       "      <td>0</td>\n",
       "      <td>0</td>\n",
       "      <td>0</td>\n",
       "      <td>0</td>\n",
       "      <td>0</td>\n",
       "      <td>0</td>\n",
       "      <td>0</td>\n",
       "      <td>0</td>\n",
       "      <td>0</td>\n",
       "      <td>...</td>\n",
       "      <td>0.0</td>\n",
       "      <td>0.0</td>\n",
       "      <td>0.0</td>\n",
       "      <td>0.0</td>\n",
       "      <td>0.0</td>\n",
       "      <td>0.0</td>\n",
       "      <td>0.0</td>\n",
       "      <td>1</td>\n",
       "      <td>3</td>\n",
       "      <td>10.0</td>\n",
       "    </tr>\n",
       "    <tr>\n",
       "      <th>8</th>\n",
       "      <td>0</td>\n",
       "      <td>0</td>\n",
       "      <td>0</td>\n",
       "      <td>0</td>\n",
       "      <td>0</td>\n",
       "      <td>0</td>\n",
       "      <td>0</td>\n",
       "      <td>0</td>\n",
       "      <td>0</td>\n",
       "      <td>0</td>\n",
       "      <td>...</td>\n",
       "      <td>0.0</td>\n",
       "      <td>0.0</td>\n",
       "      <td>0.0</td>\n",
       "      <td>0.0</td>\n",
       "      <td>0.0</td>\n",
       "      <td>0.0</td>\n",
       "      <td>0.0</td>\n",
       "      <td>0</td>\n",
       "      <td>3</td>\n",
       "      <td>19.0</td>\n",
       "    </tr>\n",
       "    <tr>\n",
       "      <th>9</th>\n",
       "      <td>0</td>\n",
       "      <td>0</td>\n",
       "      <td>0</td>\n",
       "      <td>0</td>\n",
       "      <td>0</td>\n",
       "      <td>0</td>\n",
       "      <td>0</td>\n",
       "      <td>0</td>\n",
       "      <td>0</td>\n",
       "      <td>0</td>\n",
       "      <td>...</td>\n",
       "      <td>0.0</td>\n",
       "      <td>0.0</td>\n",
       "      <td>0.0</td>\n",
       "      <td>0.0</td>\n",
       "      <td>0.0</td>\n",
       "      <td>0.0</td>\n",
       "      <td>0.0</td>\n",
       "      <td>0</td>\n",
       "      <td>3</td>\n",
       "      <td>8.0</td>\n",
       "    </tr>\n",
       "    <tr>\n",
       "      <th>13</th>\n",
       "      <td>0</td>\n",
       "      <td>0</td>\n",
       "      <td>0</td>\n",
       "      <td>0</td>\n",
       "      <td>0</td>\n",
       "      <td>0</td>\n",
       "      <td>0</td>\n",
       "      <td>0</td>\n",
       "      <td>0</td>\n",
       "      <td>0</td>\n",
       "      <td>...</td>\n",
       "      <td>0.0</td>\n",
       "      <td>0.0</td>\n",
       "      <td>0.0</td>\n",
       "      <td>0.0</td>\n",
       "      <td>0.0</td>\n",
       "      <td>0.0</td>\n",
       "      <td>0.0</td>\n",
       "      <td>1</td>\n",
       "      <td>1</td>\n",
       "      <td>4.0</td>\n",
       "    </tr>\n",
       "    <tr>\n",
       "      <th>39</th>\n",
       "      <td>0</td>\n",
       "      <td>0</td>\n",
       "      <td>0</td>\n",
       "      <td>0</td>\n",
       "      <td>0</td>\n",
       "      <td>0</td>\n",
       "      <td>0</td>\n",
       "      <td>0</td>\n",
       "      <td>0</td>\n",
       "      <td>0</td>\n",
       "      <td>...</td>\n",
       "      <td>0.0</td>\n",
       "      <td>0.0</td>\n",
       "      <td>0.0</td>\n",
       "      <td>0.0</td>\n",
       "      <td>0.0</td>\n",
       "      <td>0.0</td>\n",
       "      <td>0.0</td>\n",
       "      <td>0</td>\n",
       "      <td>3</td>\n",
       "      <td>10.0</td>\n",
       "    </tr>\n",
       "  </tbody>\n",
       "</table>\n",
       "<p>5 rows × 613 columns</p>\n",
       "</div>"
      ],
      "text/plain": [
       "          brand_ALEX AND ANI  brand_ALO Yoga  brand_ASUS  \\\n",
       "train_id                                                   \n",
       "0                          0               0           0   \n",
       "8                          0               0           0   \n",
       "9                          0               0           0   \n",
       "13                         0               0           0   \n",
       "39                         0               0           0   \n",
       "\n",
       "          brand_Abercrombie & Fit  brand_Adidas  brand_Air Jordan  \\\n",
       "train_id                                                            \n",
       "0                               0             0                 0   \n",
       "8                               0             0                 0   \n",
       "9                               0             0                 0   \n",
       "13                              0             0                 0   \n",
       "39                              0             0                 0   \n",
       "\n",
       "          brand_American Boy & Gi  brand_American Eagle  \\\n",
       "train_id                                                  \n",
       "0                               0                     0   \n",
       "8                               0                     0   \n",
       "9                               0                     0   \n",
       "13                              0                     0   \n",
       "39                              0                     0   \n",
       "\n",
       "          brand_Anastasia Beverly  brand_Angry Birds  ...    maul  chocol  \\\n",
       "train_id                                              ...                   \n",
       "0                               0                  0  ...     0.0     0.0   \n",
       "8                               0                  0  ...     0.0     0.0   \n",
       "9                               0                  0  ...     0.0     0.0   \n",
       "13                              0                  0  ...     0.0     0.0   \n",
       "39                              0                  0  ...     0.0     0.0   \n",
       "\n",
       "          ding  balm  midi  wore  sin  shipping  item_condition_id  price  \n",
       "train_id                                                                   \n",
       "0          0.0   0.0   0.0   0.0  0.0         1                  3   10.0  \n",
       "8          0.0   0.0   0.0   0.0  0.0         0                  3   19.0  \n",
       "9          0.0   0.0   0.0   0.0  0.0         0                  3    8.0  \n",
       "13         0.0   0.0   0.0   0.0  0.0         1                  1    4.0  \n",
       "39         0.0   0.0   0.0   0.0  0.0         0                  3   10.0  \n",
       "\n",
       "[5 rows x 613 columns]"
      ]
     },
     "execution_count": 43,
     "metadata": {},
     "output_type": "execute_result"
    }
   ],
   "source": [
    "finaldf.head()"
   ]
  },
  {
   "cell_type": "markdown",
   "metadata": {},
   "source": [
    "# Feature Extraction"
   ]
  },
  {
   "cell_type": "code",
   "execution_count": 44,
   "metadata": {
    "collapsed": true
   },
   "outputs": [],
   "source": [
    "# Function to find correlation between the target and features\n",
    "\n",
    "def corr_target_variables(df,targetname):\n",
    "    corr_table=pd.DataFrame([1,1],index=['Pearson','spearman'],columns=['price'])# Correlation table initial value\n",
    "    num_col=df.shape[1] # number of columns\n",
    "    \n",
    "    omited_var=list()# list of variables which do not attend in correlation\n",
    "    \n",
    "    for i in range(1,num_col):\n",
    "        try:\n",
    "            df2=pd.DataFrame({'target':df[targetname],df.columns[i]:df[df.columns[i]]})\n",
    "            corr=pd.DataFrame([df2.corr(method='pearson')['target'][df.columns[i]],df2.corr(method='spearman')['target'][df.columns[i]]],\n",
    "                      index=['Pearson','spearman'],columns=[df.columns[i]])\n",
    "            corr_table=corr_table.merge(corr, how='inner', left_index=True, right_index=True)\n",
    "        except:\n",
    "            omited_var.append(df.columns[i])\n",
    "            pass\n",
    "    return corr_table"
   ]
  },
  {
   "cell_type": "code",
   "execution_count": 45,
   "metadata": {
    "collapsed": true
   },
   "outputs": [],
   "source": [
    "corr_table=corr_target_variables(finaldf, 'price')"
   ]
  },
  {
   "cell_type": "code",
   "execution_count": 46,
   "metadata": {},
   "outputs": [
    {
     "data": {
      "text/html": [
       "<div>\n",
       "<style>\n",
       "    .dataframe thead tr:only-child th {\n",
       "        text-align: right;\n",
       "    }\n",
       "\n",
       "    .dataframe thead th {\n",
       "        text-align: left;\n",
       "    }\n",
       "\n",
       "    .dataframe tbody tr th {\n",
       "        vertical-align: top;\n",
       "    }\n",
       "</style>\n",
       "<table border=\"1\" class=\"dataframe\">\n",
       "  <thead>\n",
       "    <tr style=\"text-align: right;\">\n",
       "      <th></th>\n",
       "      <th>price_x</th>\n",
       "      <th>brand_ALO Yoga</th>\n",
       "      <th>brand_ASUS</th>\n",
       "      <th>brand_Abercrombie &amp; Fit</th>\n",
       "      <th>brand_Adidas</th>\n",
       "      <th>brand_Air Jordan</th>\n",
       "      <th>brand_American Boy &amp; Gi</th>\n",
       "      <th>brand_American Eagle</th>\n",
       "      <th>brand_Anastasia Beverly</th>\n",
       "      <th>brand_Angry Birds</th>\n",
       "      <th>...</th>\n",
       "      <th>maul</th>\n",
       "      <th>chocol</th>\n",
       "      <th>ding</th>\n",
       "      <th>balm</th>\n",
       "      <th>midi</th>\n",
       "      <th>wore</th>\n",
       "      <th>sin</th>\n",
       "      <th>shipping</th>\n",
       "      <th>item_condition_id</th>\n",
       "      <th>price_y</th>\n",
       "    </tr>\n",
       "  </thead>\n",
       "  <tbody>\n",
       "    <tr>\n",
       "      <th>Pearson</th>\n",
       "      <td>1</td>\n",
       "      <td>-0.013089</td>\n",
       "      <td>0.051510</td>\n",
       "      <td>-0.010636</td>\n",
       "      <td>0.014220</td>\n",
       "      <td>0.048239</td>\n",
       "      <td>-0.000009</td>\n",
       "      <td>-0.011006</td>\n",
       "      <td>-0.011454</td>\n",
       "      <td>-0.015543</td>\n",
       "      <td>...</td>\n",
       "      <td>0.105478</td>\n",
       "      <td>-0.000824</td>\n",
       "      <td>0.027523</td>\n",
       "      <td>-0.017378</td>\n",
       "      <td>-0.010574</td>\n",
       "      <td>-0.020612</td>\n",
       "      <td>0.001629</td>\n",
       "      <td>-0.120076</td>\n",
       "      <td>-0.008970</td>\n",
       "      <td>1.0</td>\n",
       "    </tr>\n",
       "    <tr>\n",
       "      <th>spearman</th>\n",
       "      <td>1</td>\n",
       "      <td>-0.029389</td>\n",
       "      <td>0.051267</td>\n",
       "      <td>-0.016120</td>\n",
       "      <td>0.072816</td>\n",
       "      <td>0.050938</td>\n",
       "      <td>0.030567</td>\n",
       "      <td>0.015553</td>\n",
       "      <td>-0.020562</td>\n",
       "      <td>-0.045235</td>\n",
       "      <td>...</td>\n",
       "      <td>0.053789</td>\n",
       "      <td>0.020726</td>\n",
       "      <td>0.056929</td>\n",
       "      <td>-0.034417</td>\n",
       "      <td>-0.003013</td>\n",
       "      <td>-0.025574</td>\n",
       "      <td>0.025441</td>\n",
       "      <td>-0.281615</td>\n",
       "      <td>-0.010093</td>\n",
       "      <td>1.0</td>\n",
       "    </tr>\n",
       "  </tbody>\n",
       "</table>\n",
       "<p>2 rows × 613 columns</p>\n",
       "</div>"
      ],
      "text/plain": [
       "          price_x  brand_ALO Yoga  brand_ASUS  brand_Abercrombie & Fit  \\\n",
       "Pearson         1       -0.013089    0.051510                -0.010636   \n",
       "spearman        1       -0.029389    0.051267                -0.016120   \n",
       "\n",
       "          brand_Adidas  brand_Air Jordan  brand_American Boy & Gi  \\\n",
       "Pearson       0.014220          0.048239                -0.000009   \n",
       "spearman      0.072816          0.050938                 0.030567   \n",
       "\n",
       "          brand_American Eagle  brand_Anastasia Beverly  brand_Angry Birds  \\\n",
       "Pearson              -0.011006                -0.011454          -0.015543   \n",
       "spearman              0.015553                -0.020562          -0.045235   \n",
       "\n",
       "           ...         maul    chocol      ding      balm      midi      wore  \\\n",
       "Pearson    ...     0.105478 -0.000824  0.027523 -0.017378 -0.010574 -0.020612   \n",
       "spearman   ...     0.053789  0.020726  0.056929 -0.034417 -0.003013 -0.025574   \n",
       "\n",
       "               sin  shipping  item_condition_id  price_y  \n",
       "Pearson   0.001629 -0.120076          -0.008970      1.0  \n",
       "spearman  0.025441 -0.281615          -0.010093      1.0  \n",
       "\n",
       "[2 rows x 613 columns]"
      ]
     },
     "execution_count": 46,
     "metadata": {},
     "output_type": "execute_result"
    }
   ],
   "source": [
    "corr_table"
   ]
  },
  {
   "cell_type": "code",
   "execution_count": 112,
   "metadata": {
    "collapsed": true
   },
   "outputs": [],
   "source": [
    "corr_table=corr_table.abs()\n",
    "max_corr=corr_table.max()\n",
    "max_corr.sort_values(ascending=False,inplace=True)\n",
    "max_corr=max_corr[max_corr>0.12]\n",
    "# extract 100 features in model_table\n",
    "last_cols=max_corr.index.tolist()"
   ]
  },
  {
   "cell_type": "code",
   "execution_count": 113,
   "metadata": {},
   "outputs": [
    {
     "name": "stdout",
     "output_type": "stream",
     "text": [
      "price_y                          1.000000\n",
      "price_x                          1.000000\n",
      "patina                           0.591197\n",
      "honey                            0.368339\n",
      "brand_Louis Vuitton              0.366710\n",
      "brand_YSL Yves Saint La          0.363056\n",
      "shipping                         0.281615\n",
      "brand_Canon                      0.264931\n",
      "sub_cat_Cameras & Photography    0.264931\n",
      "sub_cat_Women's Handbags         0.219585\n",
      "sub_cat_Shoes                    0.185171\n",
      "brand_Michael Kors               0.146540\n",
      "main_cat_Men                     0.134598\n",
      "brand_Nike                       0.120463\n",
      "dtype: float64\n"
     ]
    }
   ],
   "source": [
    "print(max_corr)"
   ]
  },
  {
   "cell_type": "code",
   "execution_count": 114,
   "metadata": {},
   "outputs": [],
   "source": [
    "del last_cols[:2]\n",
    "model_table=finaldf[last_cols]"
   ]
  },
  {
   "cell_type": "code",
   "execution_count": 115,
   "metadata": {},
   "outputs": [
    {
     "data": {
      "text/html": [
       "<div>\n",
       "<style>\n",
       "    .dataframe thead tr:only-child th {\n",
       "        text-align: right;\n",
       "    }\n",
       "\n",
       "    .dataframe thead th {\n",
       "        text-align: left;\n",
       "    }\n",
       "\n",
       "    .dataframe tbody tr th {\n",
       "        vertical-align: top;\n",
       "    }\n",
       "</style>\n",
       "<table border=\"1\" class=\"dataframe\">\n",
       "  <thead>\n",
       "    <tr style=\"text-align: right;\">\n",
       "      <th></th>\n",
       "      <th>patina</th>\n",
       "      <th>honey</th>\n",
       "      <th>brand_Louis Vuitton</th>\n",
       "      <th>brand_YSL Yves Saint La</th>\n",
       "      <th>shipping</th>\n",
       "      <th>brand_Canon</th>\n",
       "      <th>sub_cat_Cameras &amp; Photography</th>\n",
       "      <th>sub_cat_Women's Handbags</th>\n",
       "      <th>sub_cat_Shoes</th>\n",
       "      <th>brand_Michael Kors</th>\n",
       "      <th>main_cat_Men</th>\n",
       "      <th>brand_Nike</th>\n",
       "    </tr>\n",
       "    <tr>\n",
       "      <th>train_id</th>\n",
       "      <th></th>\n",
       "      <th></th>\n",
       "      <th></th>\n",
       "      <th></th>\n",
       "      <th></th>\n",
       "      <th></th>\n",
       "      <th></th>\n",
       "      <th></th>\n",
       "      <th></th>\n",
       "      <th></th>\n",
       "      <th></th>\n",
       "      <th></th>\n",
       "    </tr>\n",
       "  </thead>\n",
       "  <tbody>\n",
       "    <tr>\n",
       "      <th>0</th>\n",
       "      <td>0.0</td>\n",
       "      <td>0.0</td>\n",
       "      <td>0</td>\n",
       "      <td>0</td>\n",
       "      <td>1</td>\n",
       "      <td>0</td>\n",
       "      <td>0</td>\n",
       "      <td>0</td>\n",
       "      <td>0</td>\n",
       "      <td>0</td>\n",
       "      <td>1</td>\n",
       "      <td>0</td>\n",
       "    </tr>\n",
       "    <tr>\n",
       "      <th>8</th>\n",
       "      <td>0.0</td>\n",
       "      <td>0.0</td>\n",
       "      <td>0</td>\n",
       "      <td>0</td>\n",
       "      <td>0</td>\n",
       "      <td>0</td>\n",
       "      <td>0</td>\n",
       "      <td>0</td>\n",
       "      <td>0</td>\n",
       "      <td>0</td>\n",
       "      <td>0</td>\n",
       "      <td>1</td>\n",
       "    </tr>\n",
       "    <tr>\n",
       "      <th>9</th>\n",
       "      <td>0.0</td>\n",
       "      <td>0.0</td>\n",
       "      <td>0</td>\n",
       "      <td>0</td>\n",
       "      <td>0</td>\n",
       "      <td>0</td>\n",
       "      <td>0</td>\n",
       "      <td>0</td>\n",
       "      <td>0</td>\n",
       "      <td>0</td>\n",
       "      <td>0</td>\n",
       "      <td>0</td>\n",
       "    </tr>\n",
       "    <tr>\n",
       "      <th>13</th>\n",
       "      <td>0.0</td>\n",
       "      <td>0.0</td>\n",
       "      <td>0</td>\n",
       "      <td>0</td>\n",
       "      <td>1</td>\n",
       "      <td>0</td>\n",
       "      <td>0</td>\n",
       "      <td>0</td>\n",
       "      <td>0</td>\n",
       "      <td>0</td>\n",
       "      <td>0</td>\n",
       "      <td>0</td>\n",
       "    </tr>\n",
       "    <tr>\n",
       "      <th>39</th>\n",
       "      <td>0.0</td>\n",
       "      <td>0.0</td>\n",
       "      <td>0</td>\n",
       "      <td>0</td>\n",
       "      <td>0</td>\n",
       "      <td>0</td>\n",
       "      <td>0</td>\n",
       "      <td>0</td>\n",
       "      <td>0</td>\n",
       "      <td>0</td>\n",
       "      <td>0</td>\n",
       "      <td>0</td>\n",
       "    </tr>\n",
       "  </tbody>\n",
       "</table>\n",
       "</div>"
      ],
      "text/plain": [
       "          patina  honey  brand_Louis Vuitton  brand_YSL Yves Saint La  \\\n",
       "train_id                                                                \n",
       "0            0.0    0.0                    0                        0   \n",
       "8            0.0    0.0                    0                        0   \n",
       "9            0.0    0.0                    0                        0   \n",
       "13           0.0    0.0                    0                        0   \n",
       "39           0.0    0.0                    0                        0   \n",
       "\n",
       "          shipping  brand_Canon  sub_cat_Cameras & Photography  \\\n",
       "train_id                                                         \n",
       "0                1            0                              0   \n",
       "8                0            0                              0   \n",
       "9                0            0                              0   \n",
       "13               1            0                              0   \n",
       "39               0            0                              0   \n",
       "\n",
       "          sub_cat_Women's Handbags  sub_cat_Shoes  brand_Michael Kors  \\\n",
       "train_id                                                                \n",
       "0                                0              0                   0   \n",
       "8                                0              0                   0   \n",
       "9                                0              0                   0   \n",
       "13                               0              0                   0   \n",
       "39                               0              0                   0   \n",
       "\n",
       "          main_cat_Men  brand_Nike  \n",
       "train_id                            \n",
       "0                    1           0  \n",
       "8                    0           1  \n",
       "9                    0           0  \n",
       "13                   0           0  \n",
       "39                   0           0  "
      ]
     },
     "execution_count": 115,
     "metadata": {},
     "output_type": "execute_result"
    }
   ],
   "source": [
    "model_table.head()"
   ]
  },
  {
   "cell_type": "code",
   "execution_count": 123,
   "metadata": {},
   "outputs": [
    {
     "data": {
      "image/png": "[encoded data removed]",
      "text/plain": [
       "<matplotlib.figure.Figure at 0x23468008390>"
      ]
     },
     "metadata": {},
     "output_type": "display_data"
    }
   ],
   "source": [
    "fn, ax = plt.subplots(figsize=(10, 8))\n",
    "corr = model_table.corr()\n",
    "sns.heatmap(corr, mask=np.zeros_like(corr, dtype=np.bool), cmap=sns.diverging_palette(220, 10, as_cmap=True),\n",
    "            square=True, ax=ax, annot=True)\n",
    "plt.show()"
   ]
  },
  {
   "cell_type": "code",
   "execution_count": 117,
   "metadata": {},
   "outputs": [],
   "source": [
    "highCor=abs(corr.unstack()).sort_values(ascending=False)[len(last_cols)::2]"
   ]
  },
  {
   "cell_type": "code",
   "execution_count": 118,
   "metadata": {},
   "outputs": [
    {
     "data": {
      "text/plain": [
       "brand_Michael Kors             brand_Michael Kors               1.000000\n",
       "patina                         honey                            0.622263\n",
       "brand_Louis Vuitton            patina                           0.576772\n",
       "                               honey                            0.357997\n",
       "main_cat_Men                   sub_cat_Shoes                    0.292179\n",
       "sub_cat_Shoes                  brand_Nike                       0.234664\n",
       "main_cat_Men                   brand_Nike                       0.227631\n",
       "sub_cat_Women's Handbags       brand_Louis Vuitton              0.191496\n",
       "brand_Michael Kors             sub_cat_Women's Handbags         0.182028\n",
       "patina                         sub_cat_Women's Handbags         0.168642\n",
       "shipping                       sub_cat_Shoes                    0.117372\n",
       "sub_cat_Women's Handbags       honey                            0.100425\n",
       "brand_Nike                     shipping                         0.095562\n",
       "main_cat_Men                   shipping                         0.070315\n",
       "brand_Michael Kors             shipping                         0.066767\n",
       "sub_cat_Women's Handbags       sub_cat_Shoes                    0.052647\n",
       "brand_Louis Vuitton            shipping                         0.051553\n",
       "main_cat_Men                   sub_cat_Women's Handbags         0.046552\n",
       "shipping                       sub_cat_Women's Handbags         0.043631\n",
       "sub_cat_Shoes                  brand_Michael Kors               0.039682\n",
       "sub_cat_Women's Handbags       brand_Nike                       0.036255\n",
       "shipping                       brand_YSL Yves Saint La          0.033665\n",
       "                               sub_cat_Cameras & Photography    0.033665\n",
       "sub_cat_Cameras & Photography  shipping                         0.033665\n",
       "shipping                       patina                           0.029734\n",
       "main_cat_Men                   brand_Michael Kors               0.027346\n",
       "brand_Michael Kors             brand_Nike                       0.021297\n",
       "brand_Louis Vuitton            sub_cat_Shoes                    0.015393\n",
       "main_cat_Men                   brand_Louis Vuitton              0.013611\n",
       "honey                          sub_cat_Shoes                    0.012482\n",
       "                                                                  ...   \n",
       "                               brand_Nike                       0.008595\n",
       "main_cat_Men                   patina                           0.007851\n",
       "brand_Canon                    main_cat_Men                     0.007851\n",
       "main_cat_Men                   brand_Canon                      0.007851\n",
       "brand_YSL Yves Saint La        main_cat_Men                     0.007851\n",
       "honey                          shipping                         0.007827\n",
       "brand_Canon                    brand_Nike                       0.006114\n",
       "sub_cat_Cameras & Photography  brand_Nike                       0.006114\n",
       "brand_Nike                     patina                           0.006114\n",
       "brand_YSL Yves Saint La        brand_Nike                       0.006114\n",
       "brand_Louis Vuitton            brand_Michael Kors               0.006045\n",
       "brand_YSL Yves Saint La        sub_cat_Women's Handbags         0.005936\n",
       "brand_Canon                    sub_cat_Women's Handbags         0.005936\n",
       "sub_cat_Women's Handbags       sub_cat_Cameras & Photography    0.005936\n",
       "honey                          brand_Michael Kors               0.004902\n",
       "brand_Canon                    brand_Michael Kors               0.003487\n",
       "brand_Michael Kors             sub_cat_Cameras & Photography    0.003487\n",
       "                               brand_YSL Yves Saint La          0.003487\n",
       "patina                         brand_Michael Kors               0.003487\n",
       "brand_Canon                    brand_Louis Vuitton              0.001736\n",
       "sub_cat_Cameras & Photography  brand_Louis Vuitton              0.001736\n",
       "brand_YSL Yves Saint La        brand_Louis Vuitton              0.001736\n",
       "sub_cat_Cameras & Photography  honey                            0.001407\n",
       "honey                          brand_Canon                      0.001407\n",
       "                               brand_YSL Yves Saint La          0.001407\n",
       "brand_Canon                    patina                           0.001001\n",
       "patina                         brand_Canon                      0.001001\n",
       "brand_YSL Yves Saint La        patina                           0.001001\n",
       "brand_Canon                    brand_YSL Yves Saint La          0.001001\n",
       "brand_YSL Yves Saint La        brand_Canon                      0.001001\n",
       "Length: 66, dtype: float64"
      ]
     },
     "execution_count": 118,
     "metadata": {},
     "output_type": "execute_result"
    }
   ],
   "source": [
    "highCor"
   ]
  },
  {
   "cell_type": "code",
   "execution_count": 119,
   "metadata": {},
   "outputs": [
    {
     "name": "stdout",
     "output_type": "stream",
     "text": [
      "['brand_Michael Kors']\n"
     ]
    }
   ],
   "source": [
    "highCorrList=list(set(list(highCor[highCor>0.75].unstack().index)+list(highCor[highCor>0.75].unstack().columns.values)))\n",
    "\n",
    "print(highCorrList)"
   ]
  },
  {
   "cell_type": "code",
   "execution_count": 120,
   "metadata": {},
   "outputs": [
    {
     "name": "stdout",
     "output_type": "stream",
     "text": [
      "['brand_Michael Kors']\n"
     ]
    }
   ],
   "source": [
    "DropList=max_corr[highCorrList][max_corr[highCorrList]<0.65]\n",
    "DropList=list(DropList.index)\n",
    "print(DropList)"
   ]
  },
  {
   "cell_type": "code",
   "execution_count": 121,
   "metadata": {},
   "outputs": [
    {
     "name": "stderr",
     "output_type": "stream",
     "text": [
      "C:\\Users\\mm\\Anaconda3\\lib\\site-packages\\ipykernel_launcher.py:1: SettingWithCopyWarning: \n",
      "A value is trying to be set on a copy of a slice from a DataFrame\n",
      "\n",
      "See the caveats in the documentation: http://pandas.pydata.org/pandas-docs/stable/indexing.html#indexing-view-versus-copy\n",
      "  \"\"\"Entry point for launching an IPython kernel.\n"
     ]
    }
   ],
   "source": [
    "model_table.drop(DropList,axis=1,inplace=True)"
   ]
  },
  {
   "cell_type": "code",
   "execution_count": 124,
   "metadata": {},
   "outputs": [
    {
     "data": {
      "text/plain": [
       "Index(['patina', 'honey', 'brand_Louis Vuitton', 'brand_YSL Yves Saint La',\n",
       "       'shipping', 'brand_Canon', 'sub_cat_Cameras & Photography',\n",
       "       'sub_cat_Women's Handbags', 'sub_cat_Shoes', 'main_cat_Men',\n",
       "       'brand_Nike'],\n",
       "      dtype='object')"
      ]
     },
     "execution_count": 124,
     "metadata": {},
     "output_type": "execute_result"
    }
   ],
   "source": [
    "model_table.columns"
   ]
  },
  {
   "cell_type": "code",
   "execution_count": 125,
   "metadata": {},
   "outputs": [
    {
     "data": {
      "text/plain": [
       "patina                           float64\n",
       "honey                            float64\n",
       "brand_Louis Vuitton                uint8\n",
       "brand_YSL Yves Saint La            uint8\n",
       "shipping                           int64\n",
       "brand_Canon                        uint8\n",
       "sub_cat_Cameras & Photography      uint8\n",
       "sub_cat_Women's Handbags           uint8\n",
       "sub_cat_Shoes                      uint8\n",
       "main_cat_Men                       uint8\n",
       "brand_Nike                         uint8\n",
       "dtype: object"
      ]
     },
     "execution_count": 125,
     "metadata": {},
     "output_type": "execute_result"
    }
   ],
   "source": [
    "model_table.dtypes"
   ]
  },
  {
   "cell_type": "code",
   "execution_count": null,
   "metadata": {
    "collapsed": true
   },
   "outputs": [],
   "source": []
  },
  {
   "cell_type": "markdown",
   "metadata": {},
   "source": [
    "# ML model: Linear Regression"
   ]
  },
  {
   "cell_type": "code",
   "execution_count": 127,
   "metadata": {},
   "outputs": [
    {
     "name": "stderr",
     "output_type": "stream",
     "text": [
      "C:\\Users\\mm\\Anaconda3\\lib\\site-packages\\sklearn\\model_selection\\_split.py:2010: FutureWarning: From version 0.21, test_size will always complement train_size unless both are specified.\n",
      "  FutureWarning)\n"
     ]
    }
   ],
   "source": [
    "from sklearn.model_selection import train_test_split\n",
    "#split data to test and train\n",
    "x_train,x_test = train_test_split(model_table, random_state=233, train_size=0.75)\n",
    "y_train,y_test= train_test_split(y, random_state=233, train_size=0.75)"
   ]
  },
  {
   "cell_type": "code",
   "execution_count": 128,
   "metadata": {},
   "outputs": [
    {
     "name": "stdout",
     "output_type": "stream",
     "text": [
      " Intercept & Coefficients: \n",
      " 2.9902710895 [  3.00831421e+00   2.83926864e+00   6.74521229e-01  -1.55431223e-15\n",
      "  -3.84207908e-01   1.62593499e+00   1.62593499e+00   5.23631751e-01\n",
      "   3.98850310e-01   1.51809394e-01   1.59914946e-01]\n",
      "Mean squared error (training): 0.48\n",
      "Mean squared error (testing): 0.51\n",
      "R-square score (training): 0.17\n",
      "R-square score (testing): 0.24\n"
     ]
    }
   ],
   "source": [
    "from sklearn.metrics import mean_squared_error, r2_score \n",
    "from sklearn import linear_model\n",
    "regr = linear_model.LinearRegression()\n",
    "# Train the model using the training sets\n",
    "regr.fit(x_train, y_train)\n",
    "\n",
    "# The intercept and coefficients, mean-squared error, R-squared score\n",
    "print(' Intercept & Coefficients: \\n', regr.intercept_, regr.coef_)\n",
    "print(\"Mean squared error (training): %.2f\" % mean_squared_error(y_train, regr.predict(x_train)))\n",
    "print(\"Mean squared error (testing): %.2f\" % mean_squared_error(y_test, y_pred))\n",
    "print('R-square score (training): %.2f' % regr.score(x_train, y_train))\n",
    "print('R-square score (testing): %.2f' % r2_score(y_test, y_pred))\n"
   ]
  },
  {
   "cell_type": "code",
   "execution_count": 129,
   "metadata": {},
   "outputs": [
    {
     "data": {
      "image/png": "[encoded data removed]",
      "text/plain": [
       "<matplotlib.figure.Figure at 0x23467722ef0>"
      ]
     },
     "metadata": {},
     "output_type": "display_data"
    }
   ],
   "source": [
    "plt.scatter(y_test,y_pred,color='g')\n",
    "plt.xlabel('true price')\n",
    "plt.ylabel('predicted price')\n",
    "plt.show()"
   ]
  },
  {
   "cell_type": "code",
   "execution_count": 134,
   "metadata": {},
   "outputs": [],
   "source": [
    "from sklearn.linear_model import LinearRegression\n",
    "from sklearn.feature_selection import RFE\n",
    "\n",
    "X=x_train\n",
    "y=y_train\n",
    "y = np.ravel(y)\n",
    "features=X.columns.values\n",
    "results=[]\n",
    "\n",
    "lr=LinearRegression()\n",
    "for i in range(1,9):\n",
    "    selector=RFE(lr,n_features_to_select=i, step=1)\n",
    "    selector.fit(X,y)\n",
    "    r2=selector.score(X, y)\n",
    "    selected_features=features[selector.support_]\n",
    "    msr=mean_squared_error(y, selector.predict(X))\n",
    "    results.append([i,r2,msr,\",\".join(selected_features)])\n",
    "    \n",
    "results=pd.DataFrame(results,columns=['no_features','r2','mean square error','selected_features']) "
   ]
  },
  {
   "cell_type": "code",
   "execution_count": 135,
   "metadata": {},
   "outputs": [
    {
     "data": {
      "text/html": [
       "<div>\n",
       "<style>\n",
       "    .dataframe thead tr:only-child th {\n",
       "        text-align: right;\n",
       "    }\n",
       "\n",
       "    .dataframe thead th {\n",
       "        text-align: left;\n",
       "    }\n",
       "\n",
       "    .dataframe tbody tr th {\n",
       "        vertical-align: top;\n",
       "    }\n",
       "</style>\n",
       "<table border=\"1\" class=\"dataframe\">\n",
       "  <thead>\n",
       "    <tr style=\"text-align: right;\">\n",
       "      <th></th>\n",
       "      <th>no_features</th>\n",
       "      <th>r2</th>\n",
       "      <th>mean square error</th>\n",
       "      <th>selected_features</th>\n",
       "    </tr>\n",
       "  </thead>\n",
       "  <tbody>\n",
       "    <tr>\n",
       "      <th>0</th>\n",
       "      <td>1</td>\n",
       "      <td>0.032049</td>\n",
       "      <td>0.565391</td>\n",
       "      <td>patina</td>\n",
       "    </tr>\n",
       "    <tr>\n",
       "      <th>1</th>\n",
       "      <td>2</td>\n",
       "      <td>0.032049</td>\n",
       "      <td>0.565391</td>\n",
       "      <td>patina,honey</td>\n",
       "    </tr>\n",
       "    <tr>\n",
       "      <th>2</th>\n",
       "      <td>3</td>\n",
       "      <td>0.052466</td>\n",
       "      <td>0.553465</td>\n",
       "      <td>patina,honey,sub_cat_Cameras &amp; Photography</td>\n",
       "    </tr>\n",
       "    <tr>\n",
       "      <th>3</th>\n",
       "      <td>4</td>\n",
       "      <td>0.052466</td>\n",
       "      <td>0.553465</td>\n",
       "      <td>patina,honey,brand_Canon,sub_cat_Cameras &amp; Pho...</td>\n",
       "    </tr>\n",
       "    <tr>\n",
       "      <th>4</th>\n",
       "      <td>5</td>\n",
       "      <td>0.057622</td>\n",
       "      <td>0.550453</td>\n",
       "      <td>patina,honey,brand_Louis Vuitton,brand_Canon,s...</td>\n",
       "    </tr>\n",
       "    <tr>\n",
       "      <th>5</th>\n",
       "      <td>6</td>\n",
       "      <td>0.092100</td>\n",
       "      <td>0.530314</td>\n",
       "      <td>patina,honey,brand_Louis Vuitton,brand_Canon,s...</td>\n",
       "    </tr>\n",
       "    <tr>\n",
       "      <th>6</th>\n",
       "      <td>7</td>\n",
       "      <td>0.107068</td>\n",
       "      <td>0.521571</td>\n",
       "      <td>patina,honey,brand_Louis Vuitton,brand_Canon,s...</td>\n",
       "    </tr>\n",
       "    <tr>\n",
       "      <th>7</th>\n",
       "      <td>8</td>\n",
       "      <td>0.170638</td>\n",
       "      <td>0.484439</td>\n",
       "      <td>patina,honey,brand_Louis Vuitton,shipping,bran...</td>\n",
       "    </tr>\n",
       "  </tbody>\n",
       "</table>\n",
       "</div>"
      ],
      "text/plain": [
       "   no_features        r2  mean square error  \\\n",
       "0            1  0.032049           0.565391   \n",
       "1            2  0.032049           0.565391   \n",
       "2            3  0.052466           0.553465   \n",
       "3            4  0.052466           0.553465   \n",
       "4            5  0.057622           0.550453   \n",
       "5            6  0.092100           0.530314   \n",
       "6            7  0.107068           0.521571   \n",
       "7            8  0.170638           0.484439   \n",
       "\n",
       "                                   selected_features  \n",
       "0                                             patina  \n",
       "1                                       patina,honey  \n",
       "2         patina,honey,sub_cat_Cameras & Photography  \n",
       "3  patina,honey,brand_Canon,sub_cat_Cameras & Pho...  \n",
       "4  patina,honey,brand_Louis Vuitton,brand_Canon,s...  \n",
       "5  patina,honey,brand_Louis Vuitton,brand_Canon,s...  \n",
       "6  patina,honey,brand_Louis Vuitton,brand_Canon,s...  \n",
       "7  patina,honey,brand_Louis Vuitton,shipping,bran...  "
      ]
     },
     "execution_count": 135,
     "metadata": {},
     "output_type": "execute_result"
    }
   ],
   "source": [
    "results"
   ]
  },
  {
   "cell_type": "code",
   "execution_count": 136,
   "metadata": {},
   "outputs": [
    {
     "data": {
      "image/png": "[encoded data removed]",
      "text/plain": [
       "<matplotlib.figure.Figure at 0x234690b1f28>"
      ]
     },
     "metadata": {},
     "output_type": "display_data"
    }
   ],
   "source": [
    "plt.scatter(y, selector.predict(X)-y,  color='blue')\n",
    "plt.plot([y.min(),y.max()],[0,0],color='black')\n",
    "plt.title(\"Residuals' plot:\")\n",
    "plt.xlabel('fitted value (y)')\n",
    "plt.ylabel('Residual')\n",
    "plt.show()"
   ]
  },
  {
   "cell_type": "code",
   "execution_count": null,
   "metadata": {
    "collapsed": true
   },
   "outputs": [],
   "source": []
  }
 ],
 "metadata": {
  "kernelspec": {
   "display_name": "Python 3",
   "language": "python",
   "name": "python3"
  },
  "language_info": {
   "codemirror_mode": {
    "name": "ipython",
    "version": 3
   },
   "file_extension": ".py",
   "mimetype": "text/x-python",
   "name": "python",
   "nbconvert_exporter": "python",
   "pygments_lexer": "ipython3",
   "version": "3.6.2"
  }
 },
 "nbformat": 4,
 "nbformat_minor": 2
}
